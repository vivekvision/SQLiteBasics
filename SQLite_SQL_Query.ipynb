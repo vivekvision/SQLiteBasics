{
  "nbformat": 4,
  "nbformat_minor": 0,
  "metadata": {
    "colab": {
      "name": "SQLite SQL Query.ipynb",
      "provenance": [],
      "collapsed_sections": [],
      "authorship_tag": "ABX9TyNa6RvOMzF8ZFVNT1NSNDqA",
      "include_colab_link": true
    },
    "kernelspec": {
      "name": "python3",
      "display_name": "Python 3"
    },
    "language_info": {
      "name": "python"
    }
  },
  "cells": [
    {
      "cell_type": "markdown",
      "metadata": {
        "id": "view-in-github",
        "colab_type": "text"
      },
      "source": [
        "<a href=\"https://colab.research.google.com/github/vivekvision/SQLiteBasics/blob/main/SQLite_SQL_Query.ipynb\" target=\"_parent\"><img src=\"https://colab.research.google.com/assets/colab-badge.svg\" alt=\"Open In Colab\"/></a>"
      ]
    },
    {
      "cell_type": "code",
      "execution_count": 48,
      "metadata": {
        "colab": {
          "base_uri": "https://localhost:8080/",
          "height": 70
        },
        "id": "dDH4habNXgNr",
        "outputId": "ce794920-2cc8-461f-c352-9812037100e4"
      },
      "outputs": [
        {
          "output_type": "stream",
          "name": "stdout",
          "text": [
            "The sql extension is already loaded. To reload it, use:\n",
            "  %reload_ext sql\n"
          ]
        },
        {
          "output_type": "execute_result",
          "data": {
            "application/vnd.google.colaboratory.intrinsic+json": {
              "type": "string"
            },
            "text/plain": [
              "'Connected: @None'"
            ]
          },
          "metadata": {},
          "execution_count": 48
        }
      ],
      "source": [
        "# First load an sql extension into our environment\n",
        "# This extension allows sql on Colab\n",
        "#\n",
        "%load_ext sql\n",
        "\n",
        "# connect to in memory sqlite database\n",
        "# This database will cease to exist as soon as the database connection is closed\n",
        "%sql sqlite://"
      ]
    },
    {
      "cell_type": "markdown",
      "source": [
        "Read data from a CSV file"
      ],
      "metadata": {
        "id": "eWXeB9_4ZIOz"
      }
    },
    {
      "cell_type": "code",
      "source": [
        "import pandas as pd\n",
        "EmployeeSalary = pd.read_csv(\"./EmployeeSalary.csv\", index_col=0)"
      ],
      "metadata": {
        "id": "Li5cpWS-ZM6j"
      },
      "execution_count": 61,
      "outputs": []
    },
    {
      "cell_type": "code",
      "source": [
        "# Store data-frame in a SQL table of in memory sqlite database\n",
        "%sql DROP TABLE if EXISTS EmployeeSalary;\n",
        "%sql PERSIST EmployeeSalary;"
      ],
      "metadata": {
        "colab": {
          "base_uri": "https://localhost:8080/",
          "height": 88
        },
        "id": "WYUJu5rfeD94",
        "outputId": "b515e8ec-6025-470e-cfa0-ad7013b11a76"
      },
      "execution_count": 63,
      "outputs": [
        {
          "output_type": "stream",
          "name": "stdout",
          "text": [
            " * sqlite://\n",
            "Done.\n",
            " * sqlite://\n"
          ]
        },
        {
          "output_type": "execute_result",
          "data": {
            "application/vnd.google.colaboratory.intrinsic+json": {
              "type": "string"
            },
            "text/plain": [
              "'Persisted employeesalary'"
            ]
          },
          "metadata": {},
          "execution_count": 63
        }
      ]
    },
    {
      "cell_type": "code",
      "source": [
        "%%sql\n",
        "\n",
        "SELECT * FROM EmployeeSalary LIMIT 5;"
      ],
      "metadata": {
        "colab": {
          "base_uri": "https://localhost:8080/",
          "height": 179
        },
        "id": "aif-FgHoZwHD",
        "outputId": "51405334-6fa4-436f-8707-7b8209dd1362"
      },
      "execution_count": 64,
      "outputs": [
        {
          "output_type": "stream",
          "name": "stdout",
          "text": [
            " * sqlite://\n",
            "Done.\n"
          ]
        },
        {
          "output_type": "execute_result",
          "data": {
            "text/html": [
              "<table>\n",
              "    <thead>\n",
              "        <tr>\n",
              "            <th>EmployeeID</th>\n",
              "            <th>FirstName</th>\n",
              "            <th>LastName</th>\n",
              "            <th>Gender</th>\n",
              "            <th>Department</th>\n",
              "        </tr>\n",
              "    </thead>\n",
              "    <tbody>\n",
              "        <tr>\n",
              "            <td>i002</td>\n",
              "            <td>Jase</td>\n",
              "            <td>Erni</td>\n",
              "            <td>Male</td>\n",
              "            <td>Accounting</td>\n",
              "        </tr>\n",
              "        <tr>\n",
              "            <td>i003</td>\n",
              "            <td>Marshall</td>\n",
              "            <td>Michal</td>\n",
              "            <td>Male</td>\n",
              "            <td>Accounting</td>\n",
              "        </tr>\n",
              "        <tr>\n",
              "            <td>i004</td>\n",
              "            <td>Currie</td>\n",
              "            <td>Bertenshaw</td>\n",
              "            <td>Male</td>\n",
              "            <td>Accounting</td>\n",
              "        </tr>\n",
              "        <tr>\n",
              "            <td>i006</td>\n",
              "            <td>Cull</td>\n",
              "            <td>Gilhoolie</td>\n",
              "            <td>Male</td>\n",
              "            <td>Accounting</td>\n",
              "        </tr>\n",
              "        <tr>\n",
              "            <td>i008</td>\n",
              "            <td>Gavan</td>\n",
              "            <td>Brewin</td>\n",
              "            <td>Male</td>\n",
              "            <td>Accounting</td>\n",
              "        </tr>\n",
              "    </tbody>\n",
              "</table>"
            ],
            "text/plain": [
              "[('i002', 'Jase', 'Erni', 'Male', 'Accounting'),\n",
              " ('i003', 'Marshall', 'Michal', 'Male', 'Accounting'),\n",
              " ('i004', 'Currie', 'Bertenshaw', 'Male', 'Accounting'),\n",
              " ('i006', 'Cull', 'Gilhoolie', 'Male', 'Accounting'),\n",
              " ('i008', 'Gavan', 'Brewin', 'Male', 'Accounting')]"
            ]
          },
          "metadata": {},
          "execution_count": 64
        }
      ]
    },
    {
      "cell_type": "markdown",
      "source": [
        "Select a single column"
      ],
      "metadata": {
        "id": "7IdKXHIvpfUa"
      }
    },
    {
      "cell_type": "code",
      "source": [
        "%%sql\n",
        "\n",
        "SELECT EmployeeID FROM EmployeeSalary LIMIT 5;"
      ],
      "metadata": {
        "colab": {
          "base_uri": "https://localhost:8080/",
          "height": 179
        },
        "id": "F3zDFpkHpeXp",
        "outputId": "dbd77688-f88d-4407-e719-4d370870a592"
      },
      "execution_count": 65,
      "outputs": [
        {
          "output_type": "stream",
          "name": "stdout",
          "text": [
            " * sqlite://\n",
            "Done.\n"
          ]
        },
        {
          "output_type": "execute_result",
          "data": {
            "text/html": [
              "<table>\n",
              "    <thead>\n",
              "        <tr>\n",
              "            <th>EmployeeID</th>\n",
              "        </tr>\n",
              "    </thead>\n",
              "    <tbody>\n",
              "        <tr>\n",
              "            <td>i001</td>\n",
              "        </tr>\n",
              "        <tr>\n",
              "            <td>i002</td>\n",
              "        </tr>\n",
              "        <tr>\n",
              "            <td>i003</td>\n",
              "        </tr>\n",
              "        <tr>\n",
              "            <td>i004</td>\n",
              "        </tr>\n",
              "        <tr>\n",
              "            <td>i005</td>\n",
              "        </tr>\n",
              "    </tbody>\n",
              "</table>"
            ],
            "text/plain": [
              "[('i001',), ('i002',), ('i003',), ('i004',), ('i005',)]"
            ]
          },
          "metadata": {},
          "execution_count": 65
        }
      ]
    },
    {
      "cell_type": "markdown",
      "source": [
        "Select based on where condition"
      ],
      "metadata": {
        "id": "wrzg1MT-ppcB"
      }
    },
    {
      "cell_type": "code",
      "source": [
        "%%sql\n",
        "\n",
        "SELECT * FROM EmployeeSalary WHERE Gender = 'Male' AND Department = 'Accounting'"
      ],
      "metadata": {
        "colab": {
          "base_uri": "https://localhost:8080/",
          "height": 242
        },
        "id": "Zee0n0AdpbVt",
        "outputId": "7077d301-4084-4e5a-a1f4-3809bc126b82"
      },
      "execution_count": 66,
      "outputs": [
        {
          "output_type": "stream",
          "name": "stdout",
          "text": [
            " * sqlite://\n",
            "Done.\n"
          ]
        },
        {
          "output_type": "execute_result",
          "data": {
            "text/html": [
              "<table>\n",
              "    <thead>\n",
              "        <tr>\n",
              "            <th>EmployeeID</th>\n",
              "            <th>FirstName</th>\n",
              "            <th>LastName</th>\n",
              "            <th>Gender</th>\n",
              "            <th>Department</th>\n",
              "        </tr>\n",
              "    </thead>\n",
              "    <tbody>\n",
              "        <tr>\n",
              "            <td>i002</td>\n",
              "            <td>Jase</td>\n",
              "            <td>Erni</td>\n",
              "            <td>Male</td>\n",
              "            <td>Accounting</td>\n",
              "        </tr>\n",
              "        <tr>\n",
              "            <td>i003</td>\n",
              "            <td>Marshall</td>\n",
              "            <td>Michal</td>\n",
              "            <td>Male</td>\n",
              "            <td>Accounting</td>\n",
              "        </tr>\n",
              "        <tr>\n",
              "            <td>i004</td>\n",
              "            <td>Currie</td>\n",
              "            <td>Bertenshaw</td>\n",
              "            <td>Male</td>\n",
              "            <td>Accounting</td>\n",
              "        </tr>\n",
              "        <tr>\n",
              "            <td>i006</td>\n",
              "            <td>Cull</td>\n",
              "            <td>Gilhoolie</td>\n",
              "            <td>Male</td>\n",
              "            <td>Accounting</td>\n",
              "        </tr>\n",
              "        <tr>\n",
              "            <td>i008</td>\n",
              "            <td>Gavan</td>\n",
              "            <td>Brewin</td>\n",
              "            <td>Male</td>\n",
              "            <td>Accounting</td>\n",
              "        </tr>\n",
              "        <tr>\n",
              "            <td>i010</td>\n",
              "            <td>Berkeley</td>\n",
              "            <td>Simonson</td>\n",
              "            <td>Male</td>\n",
              "            <td>Accounting</td>\n",
              "        </tr>\n",
              "        <tr>\n",
              "            <td>i011</td>\n",
              "            <td>Nikolaos</td>\n",
              "            <td>Goad</td>\n",
              "            <td>Male</td>\n",
              "            <td>Accounting</td>\n",
              "        </tr>\n",
              "        <tr>\n",
              "            <td>i013</td>\n",
              "            <td>Ode</td>\n",
              "            <td>Pawlowicz</td>\n",
              "            <td>Male</td>\n",
              "            <td>Accounting</td>\n",
              "        </tr>\n",
              "    </tbody>\n",
              "</table>"
            ],
            "text/plain": [
              "[('i002', 'Jase', 'Erni', 'Male', 'Accounting'),\n",
              " ('i003', 'Marshall', 'Michal', 'Male', 'Accounting'),\n",
              " ('i004', 'Currie', 'Bertenshaw', 'Male', 'Accounting'),\n",
              " ('i006', 'Cull', 'Gilhoolie', 'Male', 'Accounting'),\n",
              " ('i008', 'Gavan', 'Brewin', 'Male', 'Accounting'),\n",
              " ('i010', 'Berkeley', 'Simonson', 'Male', 'Accounting'),\n",
              " ('i011', 'Nikolaos', 'Goad', 'Male', 'Accounting'),\n",
              " ('i013', 'Ode', 'Pawlowicz', 'Male', 'Accounting')]"
            ]
          },
          "metadata": {},
          "execution_count": 66
        }
      ]
    },
    {
      "cell_type": "markdown",
      "source": [
        "Order by"
      ],
      "metadata": {
        "id": "dB3CBzQyuwxW"
      }
    },
    {
      "cell_type": "code",
      "source": [
        "%%sql\n",
        "\n",
        "SELECT * FROM EmployeeSalary ORDER BY EmployeeID DESC LIMIT 5;"
      ],
      "metadata": {
        "colab": {
          "base_uri": "https://localhost:8080/",
          "height": 179
        },
        "id": "5zbzIUHju9hJ",
        "outputId": "520a94c0-8d1b-4c52-890d-3b1338f5cb2e"
      },
      "execution_count": 69,
      "outputs": [
        {
          "output_type": "stream",
          "name": "stdout",
          "text": [
            " * sqlite://\n",
            "Done.\n"
          ]
        },
        {
          "output_type": "execute_result",
          "data": {
            "text/html": [
              "<table>\n",
              "    <thead>\n",
              "        <tr>\n",
              "            <th>EmployeeID</th>\n",
              "            <th>FirstName</th>\n",
              "            <th>LastName</th>\n",
              "            <th>Gender</th>\n",
              "            <th>Department</th>\n",
              "        </tr>\n",
              "    </thead>\n",
              "    <tbody>\n",
              "        <tr>\n",
              "            <td>i172</td>\n",
              "            <td>Abigale</td>\n",
              "            <td>Lascell</td>\n",
              "            <td>Female</td>\n",
              "            <td>Support</td>\n",
              "        </tr>\n",
              "        <tr>\n",
              "            <td>i171</td>\n",
              "            <td>Ameline</td>\n",
              "            <td>Iacovo</td>\n",
              "            <td>Female</td>\n",
              "            <td>Support</td>\n",
              "        </tr>\n",
              "        <tr>\n",
              "            <td>i170</td>\n",
              "            <td>Camellia</td>\n",
              "            <td>Glyne</td>\n",
              "            <td>Female</td>\n",
              "            <td>Support</td>\n",
              "        </tr>\n",
              "        <tr>\n",
              "            <td>i169</td>\n",
              "            <td>Melisse</td>\n",
              "            <td>Rivlin</td>\n",
              "            <td>Female</td>\n",
              "            <td>Support</td>\n",
              "        </tr>\n",
              "        <tr>\n",
              "            <td>i168</td>\n",
              "            <td>Carleen</td>\n",
              "            <td>Sweeten</td>\n",
              "            <td>Female</td>\n",
              "            <td>Support</td>\n",
              "        </tr>\n",
              "    </tbody>\n",
              "</table>"
            ],
            "text/plain": [
              "[('i172', 'Abigale', 'Lascell', 'Female', 'Support'),\n",
              " ('i171', 'Ameline', 'Iacovo', 'Female', 'Support'),\n",
              " ('i170', 'Camellia', 'Glyne', 'Female', 'Support'),\n",
              " ('i169', 'Melisse', 'Rivlin', 'Female', 'Support'),\n",
              " ('i168', 'Carleen', 'Sweeten', 'Female', 'Support')]"
            ]
          },
          "metadata": {},
          "execution_count": 69
        }
      ]
    },
    {
      "cell_type": "markdown",
      "source": [
        "Distinct"
      ],
      "metadata": {
        "id": "ad1eDXERw7pY"
      }
    },
    {
      "cell_type": "code",
      "source": [
        "%%sql\n",
        "\n",
        "SELECT DISTINCT Department FROM EmployeeSalary "
      ],
      "metadata": {
        "colab": {
          "base_uri": "https://localhost:8080/",
          "height": 221
        },
        "id": "YpP7rXQyxdLN",
        "outputId": "e1237e27-f750-4891-bfa0-94278d17b666"
      },
      "execution_count": 71,
      "outputs": [
        {
          "output_type": "stream",
          "name": "stdout",
          "text": [
            " * sqlite://\n",
            "Done.\n"
          ]
        },
        {
          "output_type": "execute_result",
          "data": {
            "text/html": [
              "<table>\n",
              "    <thead>\n",
              "        <tr>\n",
              "            <th>Department</th>\n",
              "        </tr>\n",
              "    </thead>\n",
              "    <tbody>\n",
              "        <tr>\n",
              "            <td>Accounting</td>\n",
              "        </tr>\n",
              "        <tr>\n",
              "            <td>Engineering</td>\n",
              "        </tr>\n",
              "        <tr>\n",
              "            <td>Human Resources</td>\n",
              "        </tr>\n",
              "        <tr>\n",
              "            <td>Operations</td>\n",
              "        </tr>\n",
              "        <tr>\n",
              "            <td>Project Management</td>\n",
              "        </tr>\n",
              "        <tr>\n",
              "            <td>Sales Managers</td>\n",
              "        </tr>\n",
              "        <tr>\n",
              "            <td>Support</td>\n",
              "        </tr>\n",
              "    </tbody>\n",
              "</table>"
            ],
            "text/plain": [
              "[('Accounting',),\n",
              " ('Engineering',),\n",
              " ('Human Resources',),\n",
              " ('Operations',),\n",
              " ('Project Management',),\n",
              " ('Sales Managers',),\n",
              " ('Support',)]"
            ]
          },
          "metadata": {},
          "execution_count": 71
        }
      ]
    },
    {
      "cell_type": "markdown",
      "source": [
        "Count"
      ],
      "metadata": {
        "id": "YKO_fQe5yRPa"
      }
    },
    {
      "cell_type": "code",
      "source": [
        "%%sql\n",
        "\n",
        "SELECT COUNT(Department) FROM EmployeeSalary"
      ],
      "metadata": {
        "colab": {
          "base_uri": "https://localhost:8080/",
          "height": 95
        },
        "id": "bd_cySR-w9Jd",
        "outputId": "5cb27094-fcf2-4c84-cf1b-d2dfc29938a5"
      },
      "execution_count": 72,
      "outputs": [
        {
          "output_type": "stream",
          "name": "stdout",
          "text": [
            " * sqlite://\n",
            "Done.\n"
          ]
        },
        {
          "output_type": "execute_result",
          "data": {
            "text/html": [
              "<table>\n",
              "    <thead>\n",
              "        <tr>\n",
              "            <th>COUNT(Department)</th>\n",
              "        </tr>\n",
              "    </thead>\n",
              "    <tbody>\n",
              "        <tr>\n",
              "            <td>172</td>\n",
              "        </tr>\n",
              "    </tbody>\n",
              "</table>"
            ],
            "text/plain": [
              "[(172,)]"
            ]
          },
          "metadata": {},
          "execution_count": 72
        }
      ]
    },
    {
      "cell_type": "markdown",
      "source": [
        ""
      ],
      "metadata": {
        "id": "DiyXuFgXywAc"
      }
    },
    {
      "cell_type": "markdown",
      "source": [
        "Create a table"
      ],
      "metadata": {
        "id": "wBE-wYcXfrYu"
      }
    },
    {
      "cell_type": "code",
      "source": [
        "%%sql \n",
        "CREATE TABLE IF NOT EXISTS EmployeeTable1(EmployeeID INT, \n",
        "                                         FirstName VARCHAR(25), \n",
        "                                         LastName VARCHAR(25), \n",
        "                                         Gender VARCHAR(10),\n",
        "                                         Department VARCHAR(10));"
      ],
      "metadata": {
        "colab": {
          "base_uri": "https://localhost:8080/"
        },
        "id": "H5hJO5e9bcw6",
        "outputId": "abddc502-e0ef-4b1d-caf5-a668455bfcc7"
      },
      "execution_count": 74,
      "outputs": [
        {
          "output_type": "stream",
          "name": "stdout",
          "text": [
            " * sqlite://\n",
            "Done.\n"
          ]
        },
        {
          "output_type": "execute_result",
          "data": {
            "text/plain": [
              "[]"
            ]
          },
          "metadata": {},
          "execution_count": 74
        }
      ]
    },
    {
      "cell_type": "code",
      "source": [
        "%%sql\n",
        "\n",
        "SELECT * FROM EmployeeTable1"
      ],
      "metadata": {
        "colab": {
          "base_uri": "https://localhost:8080/",
          "height": 74
        },
        "id": "DWebbsbDfo6H",
        "outputId": "79963d47-bcae-4a88-868b-e0dd1bdcc26f"
      },
      "execution_count": 76,
      "outputs": [
        {
          "output_type": "stream",
          "name": "stdout",
          "text": [
            " * sqlite://\n",
            "Done.\n"
          ]
        },
        {
          "output_type": "execute_result",
          "data": {
            "text/html": [
              "<table>\n",
              "    <thead>\n",
              "        <tr>\n",
              "            <th>EmployeeID</th>\n",
              "            <th>FirstName</th>\n",
              "            <th>LastName</th>\n",
              "            <th>Gender</th>\n",
              "            <th>Department</th>\n",
              "        </tr>\n",
              "    </thead>\n",
              "    <tbody>\n",
              "    </tbody>\n",
              "</table>"
            ],
            "text/plain": [
              "[]"
            ]
          },
          "metadata": {},
          "execution_count": 76
        }
      ]
    },
    {
      "cell_type": "markdown",
      "source": [
        "Altering SQL Table"
      ],
      "metadata": {
        "id": "3IECK8yshOvd"
      }
    },
    {
      "cell_type": "code",
      "source": [
        "%%sql\n",
        "\n",
        "ALTER TABLE EmployeeTable1 ADD Address VARCHAR(250)"
      ],
      "metadata": {
        "colab": {
          "base_uri": "https://localhost:8080/"
        },
        "id": "RhUxLTiMhPkF",
        "outputId": "8645b4e4-649e-42d7-fe36-21ba9bc408eb"
      },
      "execution_count": 77,
      "outputs": [
        {
          "output_type": "stream",
          "name": "stdout",
          "text": [
            " * sqlite://\n",
            "Done.\n"
          ]
        },
        {
          "output_type": "execute_result",
          "data": {
            "text/plain": [
              "[]"
            ]
          },
          "metadata": {},
          "execution_count": 77
        }
      ]
    },
    {
      "cell_type": "code",
      "source": [
        "%%sql\n",
        "\n",
        "SELECT * FROM EmployeeTable1"
      ],
      "metadata": {
        "colab": {
          "base_uri": "https://localhost:8080/",
          "height": 74
        },
        "id": "QhYXJUAD3zcK",
        "outputId": "7556bca7-3ade-4cb0-aec9-8132e9fc9c9a"
      },
      "execution_count": 78,
      "outputs": [
        {
          "output_type": "stream",
          "name": "stdout",
          "text": [
            " * sqlite://\n",
            "Done.\n"
          ]
        },
        {
          "output_type": "execute_result",
          "data": {
            "text/html": [
              "<table>\n",
              "    <thead>\n",
              "        <tr>\n",
              "            <th>EmployeeID</th>\n",
              "            <th>FirstName</th>\n",
              "            <th>LastName</th>\n",
              "            <th>Gender</th>\n",
              "            <th>Department</th>\n",
              "            <th>Address</th>\n",
              "        </tr>\n",
              "    </thead>\n",
              "    <tbody>\n",
              "    </tbody>\n",
              "</table>"
            ],
            "text/plain": [
              "[]"
            ]
          },
          "metadata": {},
          "execution_count": 78
        }
      ]
    }
  ]
}