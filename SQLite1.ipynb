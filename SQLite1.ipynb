{
 "cells": [
  {
   "cell_type": "code",
   "execution_count": 18,
   "id": "96dc1c13",
   "metadata": {},
   "outputs": [],
   "source": [
    "# !pip install db-sqlite3"
   ]
  },
  {
   "cell_type": "code",
   "execution_count": 6,
   "id": "01fc44d7",
   "metadata": {},
   "outputs": [],
   "source": [
    "import pandas as pd\n",
    "import sqlite3\n",
    "from datetime import date"
   ]
  },
  {
   "cell_type": "code",
   "execution_count": 10,
   "id": "570aef2b",
   "metadata": {},
   "outputs": [
    {
     "name": "stdout",
     "output_type": "stream",
     "text": [
      "Database connnection successful\n"
     ]
    }
   ],
   "source": [
    "# connecting with the database \n",
    "conn = sqlite3.connect(\"test.db\")\n",
    "print(\"Database connnection successful\")"
   ]
  },
  {
   "cell_type": "code",
   "execution_count": 11,
   "id": "2693e0c7",
   "metadata": {},
   "outputs": [
    {
     "name": "stdout",
     "output_type": "stream",
     "text": [
      "Table created successfully\n"
     ]
    }
   ],
   "source": [
    "conn.execute('''\n",
    "DROP TABLE IF EXISTS results\n",
    "            ''')\n",
    "\n",
    "try:\n",
    "    conn.execute('''\n",
    "    CREATE TABLE IF NOT EXISTS results(Name text, \n",
    "                                       Date datetime, \n",
    "                                       Remarks text)\n",
    "                ''')\n",
    "    conn.commit()\n",
    "    print(\"Table created successfully\")\n",
    "except:\n",
    "    print(\"Already table existed\")\n",
    "\n",
    "conn.close()"
   ]
  },
  {
   "cell_type": "code",
   "execution_count": 12,
   "id": "80225137",
   "metadata": {},
   "outputs": [],
   "source": [
    "conn = sqlite3.connect(\"test.db\")"
   ]
  },
  {
   "cell_type": "code",
   "execution_count": 13,
   "id": "d4e2fe0e",
   "metadata": {},
   "outputs": [],
   "source": [
    "Date = date.today().strftime(\"%d-%m-%Y\")\n",
    "Name = \"Test1\"\n",
    "Remarks = \"TestRemarks\""
   ]
  },
  {
   "cell_type": "code",
   "execution_count": 16,
   "id": "5108eb20",
   "metadata": {},
   "outputs": [],
   "source": [
    "cmd = \"INSERT INTO RESULTS(Name, Date, Remarks) values('{}','{}','{}')\".format(Name, Date, Remarks)"
   ]
  },
  {
   "cell_type": "code",
   "execution_count": 17,
   "id": "fea1dc82",
   "metadata": {},
   "outputs": [],
   "source": [
    "conn.execute(cmd)\n",
    "conn.commit()"
   ]
  },
  {
   "cell_type": "markdown",
   "id": "26562ee9",
   "metadata": {},
   "source": [
    "# Query Data"
   ]
  },
  {
   "cell_type": "code",
   "execution_count": 25,
   "id": "447cc121",
   "metadata": {},
   "outputs": [],
   "source": [
    "conn = sqlite3.connect(\"test.db\")\n",
    "rs = conn.execute(\"SELECT * FROM results\")"
   ]
  },
  {
   "cell_type": "code",
   "execution_count": 26,
   "id": "228660c0",
   "metadata": {},
   "outputs": [
    {
     "name": "stdout",
     "output_type": "stream",
     "text": [
      "('Test1', '16-02-2022', 'TestRemarks')\n"
     ]
    }
   ],
   "source": [
    "for row in rs:\n",
    "    print(row)"
   ]
  },
  {
   "cell_type": "markdown",
   "id": "ea074df6",
   "metadata": {},
   "source": [
    "# Query data & get result into data-frame "
   ]
  },
  {
   "cell_type": "code",
   "execution_count": 27,
   "id": "577b8f50",
   "metadata": {},
   "outputs": [
    {
     "data": {
      "text/html": [
       "<div>\n",
       "<style scoped>\n",
       "    .dataframe tbody tr th:only-of-type {\n",
       "        vertical-align: middle;\n",
       "    }\n",
       "\n",
       "    .dataframe tbody tr th {\n",
       "        vertical-align: top;\n",
       "    }\n",
       "\n",
       "    .dataframe thead th {\n",
       "        text-align: right;\n",
       "    }\n",
       "</style>\n",
       "<table border=\"1\" class=\"dataframe\">\n",
       "  <thead>\n",
       "    <tr style=\"text-align: right;\">\n",
       "      <th></th>\n",
       "      <th>Name</th>\n",
       "      <th>Date</th>\n",
       "      <th>Remarks</th>\n",
       "    </tr>\n",
       "  </thead>\n",
       "  <tbody>\n",
       "    <tr>\n",
       "      <th>0</th>\n",
       "      <td>Test1</td>\n",
       "      <td>16-02-2022</td>\n",
       "      <td>TestRemarks</td>\n",
       "    </tr>\n",
       "  </tbody>\n",
       "</table>\n",
       "</div>"
      ],
      "text/plain": [
       "    Name        Date      Remarks\n",
       "0  Test1  16-02-2022  TestRemarks"
      ]
     },
     "execution_count": 27,
     "metadata": {},
     "output_type": "execute_result"
    }
   ],
   "source": [
    "conn = sqlite3.connect(\"test.db\")\n",
    "\n",
    "query =\"\"\"\n",
    "SELECT * FROM results\n",
    "\"\"\"\n",
    "\n",
    "df = pd.read_sql_query(query, conn)\n",
    "df.head()"
   ]
  },
  {
   "cell_type": "markdown",
   "id": "f460526b",
   "metadata": {},
   "source": [
    "# Write data into DB"
   ]
  },
  {
   "cell_type": "code",
   "execution_count": 28,
   "id": "6ac39066",
   "metadata": {},
   "outputs": [],
   "source": [
    "def pushToDb(Name, Remarks):\n",
    "    conn = sqlite3.connect(\"test.db\")\n",
    "    from datetime import date\n",
    "    Date = date.today().strftime(\"%d-%m-%Y\")\n",
    "    cmd = \"INSERT INTO results(Name, Date, Remarks) values('{}','{}','{}')\".format(Name, Date, Remarks)\n",
    "    conn.execute(cmd)\n",
    "    conn.commit()\n"
   ]
  },
  {
   "cell_type": "code",
   "execution_count": 29,
   "id": "b4e52115",
   "metadata": {},
   "outputs": [],
   "source": [
    "pushToDb(\"Test2\",\"Test2Remarks\")"
   ]
  },
  {
   "cell_type": "code",
   "execution_count": 30,
   "id": "209d6c83",
   "metadata": {},
   "outputs": [
    {
     "data": {
      "text/html": [
       "<div>\n",
       "<style scoped>\n",
       "    .dataframe tbody tr th:only-of-type {\n",
       "        vertical-align: middle;\n",
       "    }\n",
       "\n",
       "    .dataframe tbody tr th {\n",
       "        vertical-align: top;\n",
       "    }\n",
       "\n",
       "    .dataframe thead th {\n",
       "        text-align: right;\n",
       "    }\n",
       "</style>\n",
       "<table border=\"1\" class=\"dataframe\">\n",
       "  <thead>\n",
       "    <tr style=\"text-align: right;\">\n",
       "      <th></th>\n",
       "      <th>Name</th>\n",
       "      <th>Date</th>\n",
       "      <th>Remarks</th>\n",
       "    </tr>\n",
       "  </thead>\n",
       "  <tbody>\n",
       "    <tr>\n",
       "      <th>0</th>\n",
       "      <td>Test1</td>\n",
       "      <td>16-02-2022</td>\n",
       "      <td>TestRemarks</td>\n",
       "    </tr>\n",
       "    <tr>\n",
       "      <th>1</th>\n",
       "      <td>Test2</td>\n",
       "      <td>16-02-2022</td>\n",
       "      <td>Test2Remarks</td>\n",
       "    </tr>\n",
       "  </tbody>\n",
       "</table>\n",
       "</div>"
      ],
      "text/plain": [
       "    Name        Date       Remarks\n",
       "0  Test1  16-02-2022   TestRemarks\n",
       "1  Test2  16-02-2022  Test2Remarks"
      ]
     },
     "execution_count": 30,
     "metadata": {},
     "output_type": "execute_result"
    }
   ],
   "source": [
    "conn = sqlite3.connect(\"test.db\")\n",
    "\n",
    "query =\"\"\"\n",
    "SELECT * FROM results\n",
    "\"\"\"\n",
    "\n",
    "df = pd.read_sql_query(query, conn)\n",
    "df.head()"
   ]
  }
 ],
 "metadata": {
  "kernelspec": {
   "display_name": "Python 3",
   "language": "python",
   "name": "python3"
  },
  "language_info": {
   "codemirror_mode": {
    "name": "ipython",
    "version": 3
   },
   "file_extension": ".py",
   "mimetype": "text/x-python",
   "name": "python",
   "nbconvert_exporter": "python",
   "pygments_lexer": "ipython3",
   "version": "3.8.8"
  }
 },
 "nbformat": 4,
 "nbformat_minor": 5
}
